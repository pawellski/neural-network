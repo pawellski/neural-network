{
 "cells": [
  {
   "cell_type": "markdown",
   "metadata": {},
   "source": [
    "### Automatic Differentiation"
   ]
  },
  {
   "cell_type": "markdown",
   "metadata": {},
   "source": [
    "#### Structs definition"
   ]
  },
  {
   "cell_type": "code",
   "execution_count": 1,
   "metadata": {},
   "outputs": [],
   "source": [
    "abstract type GraphNode end\n",
    "abstract type Operator <: GraphNode end\n",
    "\n",
    "struct Constant{T} <: GraphNode\n",
    "    output :: T\n",
    "end\n",
    "\n",
    "mutable struct Variable <: GraphNode\n",
    "    output :: Any\n",
    "    gradient :: Any\n",
    "    name :: String\n",
    "    Variable(output; name=\"?\") = new(output, nothing, name)\n",
    "end\n",
    "\n",
    "mutable struct VectorOperator{F} <: Operator\n",
    "    inputs :: Any\n",
    "    output :: Any\n",
    "    gradient :: Any\n",
    "    name :: String\n",
    "    VectorOperator(fun, inputs...; name=\"?\") = new{typeof(fun)}(inputs, nothing, nothing, name)\n",
    "end"
   ]
  },
  {
   "cell_type": "markdown",
   "metadata": {},
   "source": [
    "#### Nodes printing"
   ]
  },
  {
   "cell_type": "code",
   "execution_count": 2,
   "metadata": {},
   "outputs": [
    {
     "data": {
      "text/plain": [
       "show (generic function with 275 methods)"
      ]
     },
     "execution_count": 2,
     "metadata": {},
     "output_type": "execute_result"
    }
   ],
   "source": [
    "import Base: show, summary\n",
    "show(io::IO, x::VectorOperator{F}) where {F} = begin\n",
    "    print(io, \"VectorOp.\", x.name, \"(\", F, \")\");\n",
    "end\n",
    "show(io::IO, x::Constant) = print(io, \"Constant \", x.output)\n",
    "show(io::IO, x::Variable) = begin\n",
    "    print(io, \"Variable \", x.name);\n",
    "    print(io, \"\\n ┣━ ^ \"); summary(io, x.output)\n",
    "    print(io, \"\\n ┗━ ∇ \");  summary(io, x.gradient)\n",
    "end"
   ]
  },
  {
   "cell_type": "markdown",
   "metadata": {},
   "source": [
    "#### Graph building"
   ]
  },
  {
   "cell_type": "code",
   "execution_count": 3,
   "metadata": {},
   "outputs": [
    {
     "data": {
      "text/plain": [
       "topological_sort (generic function with 1 method)"
      ]
     },
     "execution_count": 3,
     "metadata": {},
     "output_type": "execute_result"
    }
   ],
   "source": [
    "function visit(node::GraphNode, visited, order)\n",
    "    if node ∉ visited\n",
    "        push!(visited, node)\n",
    "        push!(order, node)\n",
    "    end\n",
    "    return nothing\n",
    "end\n",
    "    \n",
    "function visit(node::Operator, visited, order)\n",
    "    if node ∉ visited\n",
    "        push!(visited, node)\n",
    "        for input in node.inputs\n",
    "            visit(input, visited, order)\n",
    "        end\n",
    "        push!(order, node)\n",
    "    end\n",
    "    return nothing\n",
    "end\n",
    "\n",
    "function topological_sort(root::GraphNode)\n",
    "    visited = Set()\n",
    "    order = Vector()\n",
    "    visit(root, visited, order)\n",
    "    return order\n",
    "end"
   ]
  },
  {
   "cell_type": "markdown",
   "metadata": {},
   "source": [
    "#### Forward pass"
   ]
  },
  {
   "cell_type": "code",
   "execution_count": 4,
   "metadata": {},
   "outputs": [
    {
     "data": {
      "text/plain": [
       "forward! (generic function with 1 method)"
      ]
     },
     "execution_count": 4,
     "metadata": {},
     "output_type": "execute_result"
    }
   ],
   "source": [
    "reset!(node::Constant) = nothing\n",
    "reset!(node::Variable) = node.gradient = nothing\n",
    "reset!(node::Operator) = node.gradient = nothing\n",
    "\n",
    "compute!(node::Constant) = nothing\n",
    "compute!(node::Variable) = nothing\n",
    "compute!(node::Operator) =\n",
    "    node.output = forward(node, [input.output for input in node.inputs]...)\n",
    "\n",
    "function forward!(order::Vector)\n",
    "    for node in order\n",
    "        compute!(node)\n",
    "        reset!(node)\n",
    "    end\n",
    "    return last(order).output\n",
    "end"
   ]
  },
  {
   "cell_type": "markdown",
   "metadata": {},
   "source": [
    "#### Backward pass"
   ]
  },
  {
   "cell_type": "code",
   "execution_count": 5,
   "metadata": {},
   "outputs": [
    {
     "data": {
      "text/plain": [
       "backward! (generic function with 4 methods)"
      ]
     },
     "execution_count": 5,
     "metadata": {},
     "output_type": "execute_result"
    }
   ],
   "source": [
    "update!(node::Constant, gradient) = nothing\n",
    "update!(node::GraphNode, gradient) =\n",
    "    if isnothing(node.gradient)\n",
    "        node.gradient = gradient\n",
    "    else\n",
    "        node.gradient .+= gradient\n",
    "end\n",
    "\n",
    "function backward!(order::Vector; seed=1.0)\n",
    "    result = last(order)\n",
    "    result.gradient = seed\n",
    "    @assert length(result.output) == 1 \"Gradient is defined only for scalar functions\"\n",
    "    for node in reverse(order)\n",
    "        backward!(node)\n",
    "    end\n",
    "    return nothing\n",
    "end\n",
    "\n",
    "function backward!(node::Constant) end\n",
    "function backward!(node::Variable) end\n",
    "function backward!(node::Operator)\n",
    "    inputs = node.inputs\n",
    "    gradients = backward(node, [input.output for input in inputs]..., node.gradient)\n",
    "    for (input, gradient) in zip(inputs, gradients)\n",
    "        update!(input, gradient)\n",
    "    end\n",
    "    return nothing\n",
    "end"
   ]
  },
  {
   "cell_type": "markdown",
   "metadata": {},
   "source": [
    "#### Vector selected operations"
   ]
  },
  {
   "cell_type": "code",
   "execution_count": 6,
   "metadata": {},
   "outputs": [
    {
     "data": {
      "text/plain": [
       "backward (generic function with 1 method)"
      ]
     },
     "execution_count": 6,
     "metadata": {},
     "output_type": "execute_result"
    }
   ],
   "source": [
    "Base.Broadcast.broadcasted(+, x::GraphNode, y::GraphNode) = VectorOperator(+, x, y)\n",
    "forward(::VectorOperator{typeof(+)}, x, y) = return x .+ y\n",
    "backward(::VectorOperator{typeof(+)}, x, y, g) = tuple(g, g)"
   ]
  },
  {
   "cell_type": "code",
   "execution_count": 7,
   "metadata": {},
   "outputs": [
    {
     "data": {
      "text/plain": [
       "backward (generic function with 2 methods)"
      ]
     },
     "execution_count": 7,
     "metadata": {},
     "output_type": "execute_result"
    }
   ],
   "source": [
    "Base.Broadcast.broadcasted(-, x::GraphNode, y::GraphNode) = VectorOperator(-, x, y)\n",
    "forward(::VectorOperator{typeof(-)}, x, y) = return x .- y\n",
    "backward(::VectorOperator{typeof(-)}, x, y, g) = return tuple(g, -g)"
   ]
  },
  {
   "cell_type": "code",
   "execution_count": 8,
   "metadata": {},
   "outputs": [
    {
     "data": {
      "text/plain": [
       "backward (generic function with 4 methods)"
      ]
     },
     "execution_count": 8,
     "metadata": {},
     "output_type": "execute_result"
    }
   ],
   "source": [
    "import Base: *\n",
    "import LinearAlgebra: mul!\n",
    "# matrix multiplication\n",
    "*(A::GraphNode, x::GraphNode) = VectorOperator(mul!, A, x)\n",
    "forward(::VectorOperator{typeof(mul!)}, A, x) = return A * x\n",
    "backward(::VectorOperator{typeof(mul!)}, A, x, g) = tuple(g * x', A' * g)\n",
    "\n",
    "Base.Broadcast.broadcasted(*, x::GraphNode, y::GraphNode) = VectorOperator(*, x, y)\n",
    "# element-wise multiplication\n",
    "forward(::VectorOperator{typeof(*)}, x, y) = return x .* y\n",
    "backward(node::VectorOperator{typeof(*)}, x, y, g) = let\n",
    "    𝟏 = ones(length(node.output))\n",
    "    Jx = diagm(y .* 𝟏)\n",
    "    Jy = diagm(x .* 𝟏)\n",
    "    tuple(Jx' * g, Jy' * g)\n",
    "end"
   ]
  },
  {
   "cell_type": "code",
   "execution_count": 9,
   "metadata": {},
   "outputs": [
    {
     "data": {
      "text/plain": [
       "backward (generic function with 5 methods)"
      ]
     },
     "execution_count": 9,
     "metadata": {},
     "output_type": "execute_result"
    }
   ],
   "source": [
    "Base.Broadcast.broadcasted(/, x::GraphNode, y::GraphNode) = VectorOperator(/, x, y)\n",
    "forward(::VectorOperator{typeof(/)}, x, y) = return x ./ y\n",
    "backward(node::VectorOperator{typeof(/)}, x, y::Real, g) = let\n",
    "    𝟏 = ones(length(node.output))\n",
    "    Jx = diagm(𝟏 ./ y)\n",
    "    Jy = (-x ./ y .^2)\n",
    "    tuple(Jx' * g, Jy' * g)\n",
    "end"
   ]
  },
  {
   "cell_type": "code",
   "execution_count": 10,
   "metadata": {},
   "outputs": [
    {
     "data": {
      "text/plain": [
       "backward (generic function with 6 methods)"
      ]
     },
     "execution_count": 10,
     "metadata": {},
     "output_type": "execute_result"
    }
   ],
   "source": [
    "import Base: ^\n",
    "Base.Broadcast.broadcasted(^, x::GraphNode, n::GraphNode) = VectorOperator(^, x, n)\n",
    "forward(::VectorOperator{typeof(^)}, x, n) = return x .^ n\n",
    "backward(::VectorOperator{typeof(^)}, x, n, g) = let\n",
    "    𝟏 = ones(length(x))\n",
    "    Jx = diagm(n .* x .^ (n-1) .* 𝟏)\n",
    "    Jn = log.(abs.(x)) .* x .^ n\n",
    "    tuple(Jx' * g, Jn' * g)\n",
    "end"
   ]
  },
  {
   "cell_type": "code",
   "execution_count": 11,
   "metadata": {},
   "outputs": [
    {
     "data": {
      "text/plain": [
       "backward (generic function with 7 methods)"
      ]
     },
     "execution_count": 11,
     "metadata": {},
     "output_type": "execute_result"
    }
   ],
   "source": [
    "import Base: sum\n",
    "sum(x::GraphNode) = VectorOperator(sum, x)\n",
    "forward(::VectorOperator{typeof(sum)}, x) = return sum(x)\n",
    "backward(::VectorOperator{typeof(sum)}, x, g) = let\n",
    "    𝟏 = ones(length(x))\n",
    "    Jx = 𝟏'\n",
    "    tuple(Jx' * g)\n",
    "end"
   ]
  },
  {
   "cell_type": "code",
   "execution_count": 12,
   "metadata": {},
   "outputs": [
    {
     "data": {
      "text/plain": [
       "backward (generic function with 8 methods)"
      ]
     },
     "execution_count": 12,
     "metadata": {},
     "output_type": "execute_result"
    }
   ],
   "source": [
    "import Base: max\n",
    "Base.Broadcast.broadcasted(max, x::GraphNode, y::GraphNode) = VectorOperator(max, x, y)\n",
    "forward(::VectorOperator{typeof(max)}, x, y) = return max.(x, y)\n",
    "backward(::VectorOperator{typeof(max)}, x, y, g) = let\n",
    "    Jx = diagm(isless.(y, x))\n",
    "    Jy = diagm(isless.(x, y))\n",
    "    tuple(Jx' * g, Jy' * g)\n",
    "end"
   ]
  },
  {
   "cell_type": "markdown",
   "metadata": {},
   "source": [
    "#### Activation functions"
   ]
  },
  {
   "cell_type": "code",
   "execution_count": 13,
   "metadata": {},
   "outputs": [
    {
     "data": {
      "text/plain": [
       "backward (generic function with 9 methods)"
      ]
     },
     "execution_count": 13,
     "metadata": {},
     "output_type": "execute_result"
    }
   ],
   "source": [
    "linear(x) = return x\n",
    "Base.Broadcast.broadcasted(linear, x::GraphNode) = VectorOperator(linear, x)\n",
    "forward(::VectorOperator{typeof(linear)}, x) = return x\n",
    "backward(::VectorOperator{typeof(linear)}, x, g) = let\n",
    "    𝟏 = ones(length(x), length(x))\n",
    "    tuple(𝟏' * g)\n",
    "end"
   ]
  },
  {
   "cell_type": "code",
   "execution_count": 14,
   "metadata": {},
   "outputs": [
    {
     "data": {
      "text/plain": [
       "backward (generic function with 10 methods)"
      ]
     },
     "execution_count": 14,
     "metadata": {},
     "output_type": "execute_result"
    }
   ],
   "source": [
    "ReLU(x) = return x\n",
    "Base.Broadcast.broadcasted(ReLU, x::GraphNode) = VectorOperator(ReLU, x)\n",
    "forward(::VectorOperator{typeof(ReLU)}, x) = return max.(zeros(length(x)), x)\n",
    "backward(::VectorOperator{typeof(ReLU)}, x, g) = let\n",
    "    𝟏 = ones(length(x))\n",
    "    x[x .<= zero(x)] .= 0.0\n",
    "    x[x .!= zero(x)] .= 1.0\n",
    "    Jx = diagm(x .* 𝟏)\n",
    "    tuple(Jx' * g)\n",
    "end"
   ]
  },
  {
   "cell_type": "code",
   "execution_count": 15,
   "metadata": {},
   "outputs": [
    {
     "data": {
      "text/plain": [
       "backward (generic function with 11 methods)"
      ]
     },
     "execution_count": 15,
     "metadata": {},
     "output_type": "execute_result"
    }
   ],
   "source": [
    "σ(x) = return x\n",
    "Base.Broadcast.broadcasted(σ, x::GraphNode) = VectorOperator(σ, x)\n",
    "forward(::VectorOperator{typeof(σ)}, x) = return 1 ./ (1 .+ ℯ .^ (.- x))\n",
    "backward(::VectorOperator{typeof(σ)}, x, g) = let\n",
    "    𝟏 = ones(length(x))\n",
    "    Jx = diagm(((ℯ .^ (.-x))./((1 .+ ℯ .^ (.-x)) .^ 2)) .* 𝟏)\n",
    "    tuple(Jx' * g)\n",
    "end"
   ]
  },
  {
   "cell_type": "code",
   "execution_count": 16,
   "metadata": {},
   "outputs": [
    {
     "data": {
      "text/plain": [
       "backward (generic function with 12 methods)"
      ]
     },
     "execution_count": 16,
     "metadata": {},
     "output_type": "execute_result"
    }
   ],
   "source": [
    "softmax(x) = return x\n",
    "Base.Broadcast.broadcasted(softmax, x::GraphNode) = VectorOperator(softmax, x)\n",
    "forward(::VectorOperator{typeof(softmax)}, x) =  (ℯ .^ (x))./(sum(ℯ .^x))\n",
    "backward(::VectorOperator{typeof(softmax)}, x, g) =  let\n",
    "    v = (ℯ .^ (x))./(sum(ℯ .^x))\n",
    "    len = length(v)\n",
    "    Jx = ones(len, len)\n",
    "    for i in 1:len\n",
    "        for j in 1:len\n",
    "            if i == j setindex!(Jx, v[i] * (1-v[i]), i, i)\n",
    "                 else setindex!(Jx, -v[i] * v[j], i, j) end\n",
    "        end\n",
    "    end\n",
    "    tuple(Jx' * g)\n",
    "end"
   ]
  },
  {
   "cell_type": "markdown",
   "metadata": {},
   "source": [
    "### Neural network"
   ]
  },
  {
   "cell_type": "code",
   "execution_count": 17,
   "metadata": {},
   "outputs": [],
   "source": [
    "using LinearAlgebra"
   ]
  },
  {
   "cell_type": "markdown",
   "metadata": {},
   "source": [
    "#### Variable definition"
   ]
  },
  {
   "cell_type": "code",
   "execution_count": 18,
   "metadata": {},
   "outputs": [
    {
     "data": {
      "text/plain": [
       "Variable y\n",
       " ┣━ ^ 1-element Vector{Float64}\n",
       " ┗━ ∇ Nothing"
      ]
     },
     "execution_count": 18,
     "metadata": {},
     "output_type": "execute_result"
    }
   ],
   "source": [
    "x = Variable([1.98, 4.34], name=\"x\")\n",
    "Wh = Variable(rand(10, 2), name=\"Wh\")\n",
    "Wo = Variable(rand(1, 10), name=\"Wo\")\n",
    "y = Variable([0.064], name=\"y\")"
   ]
  },
  {
   "cell_type": "markdown",
   "metadata": {},
   "source": [
    "#### Architecture"
   ]
  },
  {
   "cell_type": "code",
   "execution_count": 19,
   "metadata": {},
   "outputs": [
    {
     "data": {
      "text/plain": [
       "net (generic function with 1 method)"
      ]
     },
     "execution_count": 19,
     "metadata": {},
     "output_type": "execute_result"
    }
   ],
   "source": [
    "function dense(w, b, x, activation) return activation.(w * x .+ b) end\n",
    "function dense(w, x, activation) return activation.(w * x) end\n",
    "function dense(w, x) return w * x end\n",
    "\n",
    "function mean_squared_loss(y, ŷ)\n",
    "    return Constant(0.5) .* (y .- ŷ) .^ Constant(2)\n",
    "end\n",
    "\n",
    "function net(x, Wh, Wo, y)\n",
    "    x̂ = dense(Wh, x, linear)\n",
    "    x̂.name = \"x̂\"\n",
    "    ŷ = dense(Wo, x̂, linear)\n",
    "    ŷ.name = \"ŷ\"\n",
    "    E = mean_squared_loss(y, ŷ)\n",
    "    E.name = \"total_loss\"\n",
    "    return topological_sort(E)\n",
    "end    "
   ]
  },
  {
   "cell_type": "markdown",
   "metadata": {},
   "source": [
    "#### Example graph building"
   ]
  },
  {
   "cell_type": "code",
   "execution_count": 20,
   "metadata": {},
   "outputs": [
    {
     "data": {
      "text/plain": [
       "print_graph (generic function with 1 method)"
      ]
     },
     "execution_count": 20,
     "metadata": {},
     "output_type": "execute_result"
    }
   ],
   "source": [
    "function print_graph(g)\n",
    "    for (i, n) in enumerate(graph)\n",
    "        println(i > 9 ? \"\" : \" \", i, \". \", n)\n",
    "    end\n",
    "end"
   ]
  },
  {
   "cell_type": "code",
   "execution_count": 21,
   "metadata": {},
   "outputs": [
    {
     "name": "stdout",
     "output_type": "stream",
     "text": [
      " 1. Constant 0.5\n",
      " 2. Variable y\n",
      " ┣━ ^ 1-element Vector{Float64}\n",
      " ┗━ ∇ Nothing\n",
      " 3. Variable Wo\n",
      " ┣━ ^ 1×10 Matrix{Float64}\n",
      " ┗━ ∇ Nothing\n",
      " 4. Variable Wh\n",
      " ┣━ ^ 10×2 Matrix{Float64}\n",
      " ┗━ ∇ Nothing\n",
      " 5. Variable x\n",
      " ┣━ ^ 2-element Vector{Float64}\n",
      " ┗━ ∇ Nothing\n",
      " 6. VectorOp.?(typeof(mul!))\n",
      " 7. VectorOp.x̂(typeof(linear))\n",
      " 8. VectorOp.?(typeof(mul!))\n",
      " 9. VectorOp.ŷ(typeof(linear))\n",
      "10. VectorOp.?(typeof(-))\n",
      "11. Constant 2\n",
      "12. VectorOp.?(typeof(^))\n",
      "13. VectorOp.total_loss(typeof(*))\n"
     ]
    }
   ],
   "source": [
    "graph = net(x, Wh, Wo, y);\n",
    "print_graph(graph)"
   ]
  },
  {
   "cell_type": "code",
   "execution_count": 22,
   "metadata": {},
   "outputs": [
    {
     "data": {
      "text/plain": [
       "1-element Vector{Float64}:\n",
       " 134.50993769151918"
      ]
     },
     "execution_count": 22,
     "metadata": {},
     "output_type": "execute_result"
    }
   ],
   "source": [
    "forward!(graph)"
   ]
  },
  {
   "cell_type": "code",
   "execution_count": 23,
   "metadata": {},
   "outputs": [
    {
     "name": "stdout",
     "output_type": "stream",
     "text": [
      " 1. Constant 0.5\n",
      " 2. Variable y\n",
      " ┣━ ^ 1-element Vector{Float64}\n",
      " ┗━ ∇ Nothing\n",
      " 3. Variable Wo\n",
      " ┣━ ^ 1×10 Matrix{Float64}\n",
      " ┗━ ∇ Nothing\n",
      " 4. Variable Wh\n",
      " ┣━ ^ 10×2 Matrix{Float64}\n",
      " ┗━ ∇ Nothing\n",
      " 5. Variable x\n",
      " ┣━ ^ 2-element Vector{Float64}\n",
      " ┗━ ∇ Nothing\n",
      " 6. VectorOp.?(typeof(mul!))\n",
      " 7. VectorOp.x̂(typeof(linear))\n",
      " 8. VectorOp.?(typeof(mul!))\n",
      " 9. VectorOp.ŷ(typeof(linear))\n",
      "10. VectorOp.?(typeof(-))\n",
      "11. Constant 2\n",
      "12. VectorOp.?(typeof(^))\n",
      "13. VectorOp.total_loss(typeof(*))\n"
     ]
    }
   ],
   "source": [
    "print_graph(graph)"
   ]
  },
  {
   "cell_type": "code",
   "execution_count": 24,
   "metadata": {},
   "outputs": [
    {
     "name": "stdout",
     "output_type": "stream",
     "text": [
      " 1. Constant 0.5\n",
      " 2. Variable y\n",
      " ┣━ ^ 1-element Vector{Float64}\n",
      " ┗━ ∇ 1×1 Matrix{Float64}\n",
      " 3. Variable Wo\n",
      " ┣━ ^ 1×10 Matrix{Float64}\n",
      " ┗━ ∇ 1×10 Matrix{Float64}\n",
      " 4. Variable Wh\n",
      " ┣━ ^ 10×2 Matrix{Float64}\n",
      " ┗━ ∇ 10×2 Matrix{Float64}\n",
      " 5. Variable x\n",
      " ┣━ ^ 2-element Vector{Float64}\n",
      " ┗━ ∇ 2×1 Matrix{Float64}\n",
      " 6. VectorOp.?(typeof(mul!))\n",
      " 7. VectorOp.x̂(typeof(linear))\n",
      " 8. VectorOp.?(typeof(mul!))\n",
      " 9. VectorOp.ŷ(typeof(linear))\n",
      "10. VectorOp.?(typeof(-))\n",
      "11. Constant 2\n",
      "12. VectorOp.?(typeof(^))\n",
      "13. VectorOp.total_loss(typeof(*))\n"
     ]
    }
   ],
   "source": [
    "backward!(graph)\n",
    "print_graph(graph)"
   ]
  }
 ],
 "metadata": {
  "kernelspec": {
   "display_name": "Julia 1.7.2",
   "language": "julia",
   "name": "julia-1.7"
  },
  "language_info": {
   "file_extension": ".jl",
   "mimetype": "application/julia",
   "name": "julia",
   "version": "1.7.2"
  }
 },
 "nbformat": 4,
 "nbformat_minor": 4
}
