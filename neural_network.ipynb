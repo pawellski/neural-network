{
 "cells": [
  {
   "cell_type": "markdown",
   "metadata": {},
   "source": [
    "## Neural network based on backward automatic differentiation"
   ]
  },
  {
   "cell_type": "markdown",
   "metadata": {},
   "source": [
    "### Iris dataset"
   ]
  },
  {
   "cell_type": "markdown",
   "metadata": {},
   "source": [
    "Kinds of irises:\n",
    "    * setosa     = [1.0  0.0  0.0]\n",
    "    * versicolor = [0.0  1.0  0.0]\n",
    "    * virginica  = [0.0  0.0  1.0]"
   ]
  },
  {
   "cell_type": "markdown",
   "metadata": {},
   "source": [
    "#### Import packages"
   ]
  },
  {
   "cell_type": "code",
   "execution_count": 1,
   "metadata": {},
   "outputs": [],
   "source": [
    "include(\"data_preparing.jl\");"
   ]
  },
  {
   "cell_type": "markdown",
   "metadata": {},
   "source": [
    "####  Data preparing"
   ]
  },
  {
   "cell_type": "code",
   "execution_count": 2,
   "metadata": {},
   "outputs": [],
   "source": [
    "iris_dataset = prepare_iris();\n",
    "train_set, test_set = split_dataset(iris_dataset, 0.8);\n",
    "test_set, test_expected_values = adjust_dataset(test_set);\n",
    "train_set, train_expected_values = adjust_dataset(train_set);"
   ]
  },
  {
   "cell_type": "markdown",
   "metadata": {},
   "source": [
    "### Neural network"
   ]
  },
  {
   "cell_type": "markdown",
   "metadata": {},
   "source": [
    "#### Import packages"
   ]
  },
  {
   "cell_type": "code",
   "execution_count": 3,
   "metadata": {},
   "outputs": [],
   "source": [
    "using LinearAlgebra\n",
    "include(\"automatic_differentiation.jl\");"
   ]
  },
  {
   "cell_type": "markdown",
   "metadata": {},
   "source": [
    "#### Hyperparameters definiton"
   ]
  },
  {
   "cell_type": "code",
   "execution_count": 4,
   "metadata": {},
   "outputs": [],
   "source": [
    "α = 0.1 # learning rate\n",
    "epochs = 10;"
   ]
  },
  {
   "cell_type": "markdown",
   "metadata": {},
   "source": [
    "#### Design architecture"
   ]
  },
  {
   "cell_type": "code",
   "execution_count": 5,
   "metadata": {},
   "outputs": [],
   "source": [
    "x = Variable(train_set[1,:], name=\"x\")\n",
    "Wh = Variable(rand(10, 4), name=\"Wh\")\n",
    "Wo = Variable(rand(3, 10), name=\"Wo\")\n",
    "y = Variable(train_expected_values[1,:], name=\"y\");"
   ]
  },
  {
   "cell_type": "code",
   "execution_count": 6,
   "metadata": {},
   "outputs": [
    {
     "data": {
      "text/plain": [
       "net (generic function with 1 method)"
      ]
     },
     "execution_count": 6,
     "metadata": {},
     "output_type": "execute_result"
    }
   ],
   "source": [
    "function dense(w, b, x, activation) return activation.(w * x .+ b) end\n",
    "function dense(w, x, activation) return activation.(w * x) end\n",
    "function dense(w, x) return w * x end\n",
    "\n",
    "function mean_squared_loss(y, ŷ)\n",
    "    return Constant(1.0/3.0) .* sum.((y .- ŷ) .^ Constant(2))\n",
    "end\n",
    "\n",
    "function net(x, Wh, Wo, y)\n",
    "    x̂ = dense(Wh, x, σ)\n",
    "    x̂.name = \"x̂\"\n",
    "    ŷ = dense(Wo, x̂, softmax)\n",
    "    ŷ.name = \"ŷ\"\n",
    "    E = mean_squared_loss(y, ŷ)\n",
    "    E.name = \"total_loss\"\n",
    "    return topological_sort(E)\n",
    "end    "
   ]
  },
  {
   "cell_type": "code",
   "execution_count": 7,
   "metadata": {
    "scrolled": true
   },
   "outputs": [
    {
     "data": {
      "text/plain": [
       "dnet (generic function with 1 method)"
      ]
     },
     "execution_count": 7,
     "metadata": {},
     "output_type": "execute_result"
    }
   ],
   "source": [
    "function dnet(E)\n",
    "    println(\"total_loss\\t= \", forward!(E))\n",
    "    println(\"result\\t\\t= \", E[9].output)\n",
    "    println()\n",
    "    backward!(E)\n",
    "    tuple(E[4].gradient, E[3].gradient)\n",
    "end"
   ]
  },
  {
   "cell_type": "code",
   "execution_count": 8,
   "metadata": {
    "scrolled": false
   },
   "outputs": [
    {
     "name": "stdout",
     "output_type": "stream",
     "text": [
      "total_loss\t= 0.31426169420515576\n",
      "result\t\t= [0.6108334471887078, 0.25691397641488395, 0.13225257639640825]\n",
      "\n",
      "total_loss\t= 0.26032318859360765\n",
      "result\t\t= [0.5431608593664752, 0.3170596384692189, 0.13977950216430582]\n",
      "\n",
      "total_loss\t= 0.20857705132176213\n",
      "result\t\t= [0.4741515409025572, 0.3831205774106184, 0.1427278816868244]\n",
      "\n",
      "total_loss\t= 0.16360844364926877\n",
      "result\t\t= [0.40962818993756533, 0.4494024106590039, 0.1409693994034308]\n",
      "\n",
      "total_loss\t= 0.12770514951045486\n",
      "result\t\t= [0.3537204194994428, 0.5105392098164989, 0.1357403706840582]\n",
      "\n",
      "total_loss\t= 0.10058825916807748\n",
      "result\t\t= [0.3077270899764373, 0.5635405999057811, 0.1287323101177816]\n",
      "\n",
      "total_loss\t= 0.08060324534063783\n",
      "result\t\t= [0.2708426535645073, 0.6078919755324963, 0.12126537090299631]\n",
      "\n",
      "total_loss\t= 0.06589552131853608\n",
      "result\t\t= [0.2414262397007708, 0.6444926935398018, 0.1140810667594274]\n",
      "\n",
      "total_loss\t= 0.054942947832377645\n",
      "result\t\t= [0.21781882855125703, 0.6746867036081187, 0.10749446784062433]\n",
      "\n",
      "total_loss\t= 0.04664040479415617\n",
      "result\t\t= [0.19864730420191343, 0.6997658116118226, 0.10158688418626385]\n",
      "\n"
     ]
    }
   ],
   "source": [
    "E = net(x, Wh, Wo, y)\n",
    "for i=1:epochs\n",
    "    dWh, dWo = dnet(E)\n",
    "    Wh.output -= α * dWh\n",
    "    Wo.output -= α * dWo\n",
    "end"
   ]
  }
 ],
 "metadata": {
  "kernelspec": {
   "display_name": "Julia 1.7.2",
   "language": "julia",
   "name": "julia-1.7"
  },
  "language_info": {
   "file_extension": ".jl",
   "mimetype": "application/julia",
   "name": "julia",
   "version": "1.7.2"
  }
 },
 "nbformat": 4,
 "nbformat_minor": 4
}
